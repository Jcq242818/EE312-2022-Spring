{
 "cells": [
  {
   "cell_type": "code",
   "execution_count": 1,
   "metadata": {
    "ExecuteTime": {
     "end_time": "2021-02-21T08:22:31.298674Z",
     "start_time": "2021-02-21T08:22:28.776822Z"
    }
   },
   "outputs": [
    {
     "data": {
      "application/javascript": [
       "\n",
       "require(['notebook/js/codecell'], function(codecell) {\n",
       "  codecell.CodeCell.options_default.highlight_modes[\n",
       "      'magic_text/x-csrc'] = {'reg':[/^%%microblaze/]};\n",
       "  Jupyter.notebook.events.one('kernel_ready.Kernel', function(){\n",
       "      Jupyter.notebook.get_cells().map(function(cell){\n",
       "          if (cell.cell_type == 'code'){ cell.auto_highlight(); } }) ;\n",
       "  });\n",
       "});\n"
      ]
     },
     "metadata": {},
     "output_type": "display_data"
    }
   ],
   "source": [
    "from pynq.overlays.base import BaseOverlay"
   ]
  },
  {
   "cell_type": "code",
   "execution_count": 1,
   "metadata": {
    "ExecuteTime": {
     "end_time": "2021-02-21T08:28:08.504743Z",
     "start_time": "2021-02-21T08:28:07.772279Z"
    }
   },
   "outputs": [
    {
     "name": "stdout",
     "output_type": "stream",
     "text": [
      "['001', '002', '003', '004']\n"
     ]
    }
   ],
   "source": [
    "from rtlsdr import RtlSdr\n",
    "\n",
    "# Get a list of detected device serial numbers (str)\n",
    "serial_numbers = RtlSdr.get_device_serial_addresses()\n",
    "print(serial_numbers)"
   ]
  },
  {
   "cell_type": "code",
   "execution_count": 112,
   "metadata": {
    "ExecuteTime": {
     "end_time": "2021-02-21T12:04:31.040278Z",
     "start_time": "2021-02-21T12:04:11.377996Z"
    }
   },
   "outputs": [
    {
     "name": "stdout",
     "output_type": "stream",
     "text": [
      "['001', '002', '003', '004']\n"
     ]
    },
    {
     "data": {
      "image/png": "[encoded data removed]",
      "text/plain": [
       "<matplotlib.figure.Figure at 0xae1148f0>"
      ]
     },
     "metadata": {},
     "output_type": "display_data"
    }
   ],
   "source": [
    "from matplotlib.pylab import *\n",
    "from rtlsdr import *\n",
    "import numpy as np\n",
    "import scipy.signal as sgn\n",
    "from scipy.fftpack import fft, fftshift, ifft,fftfreq\n",
    "\n",
    "serial_number = RtlSdr.get_device_serial_addresses()\n",
    "print(serial_number)\n",
    "sdr_ar = []\n",
    "for i in range(0, size(serial_number)):\n",
    "    sdri = RtlSdr(RtlSdr.get_device_index_by_serial(serial_number[i]))\n",
    "    sdr_ar.append(sdri)\n",
    "\n",
    "sr = 2.4e6\n",
    "cf = 95e6\n",
    "ga = 4\n",
    "# configure device\n",
    "if isinstance(sr, list) & isinstance(cf, list) & isinstance(ga, list):\n",
    "    if len(sdr_ar) == len(sr) == len(cf) == len(ga):\n",
    "        for i in range(0, len(sdr_ar)):\n",
    "            sdr_ar[i].samp_rate = sr[i]\n",
    "            sdr_ar[i].center_freq = cf[i]\n",
    "            sdr_ar[i].gain = ga[i]\n",
    "    else:\n",
    "        for i in range(0, size(serial_number)):\n",
    "            sdr_ar[i].close()\n",
    "        print(\"Number of Parameters is inequal to Numbers of Receivers\")\n",
    "elif (isinstance(sr, float) | isinstance(sr, int)) & (isinstance(cf, float) | isinstance(cf, int)) & (isinstance(ga, float)| isinstance(ga, int)):\n",
    "    for i in range(0, len(sdr_ar)):\n",
    "        sdr_ar[i].samp_rate = sr\n",
    "        sdr_ar[i].center_freq = cf\n",
    "        sdr_ar[i].gain = ga\n",
    "else:\n",
    "    for i in range(0, size(serial_number)):\n",
    "        sdr_ar[i].close()\n",
    "    print(\"Number of Parameters is inequal to Numbers of Receivers\")\n",
    "\n",
    "# generating 4 samples\n",
    "# TODO: vectorization\n",
    "n_fft = 1024\n",
    "num_samp = 256\n",
    "samples0 = np.array(sdr_ar[0].read_samples(num_samp * n_fft))\n",
    "sdr_ar[0].close()\n",
    "samples1 = np.array(sdr_ar[1].read_samples(num_samp * n_fft))\n",
    "sdr_ar[1].close()\n",
    "samples2 = np.array(sdr_ar[2].read_samples(num_samp * n_fft))\n",
    "sdr_ar[2].close()\n",
    "samples3 = np.array(sdr_ar[3].read_samples(num_samp * n_fft))\n",
    "sdr_ar[3].close()\n",
    "for i in range(0, size(serial_number) - 1):\n",
    "    sdr_ar[i].close()\n",
    "#\n",
    "\n",
    "# use matplotlib to estimate and plot the PSD\n",
    "figure(1)\n",
    "subplot(2,2,1)\n",
    "[f1,Pxx1]=sgn.welch(samples0,sr,nperseg=num_samp,nfft=n_fft,detrend=False,return_onesided=False)\n",
    "# Pxx1=fftshift(Pxx1)\n",
    "plot(f1/1e6+cf/1e6,np.log10(Pxx1))\n",
    "xlabel('Frequency (MHz)')\n",
    "ylabel('Relative power (dB)')\n",
    "\n",
    "figure(1)\n",
    "subplot(2,2,2)\n",
    "[f2,Pxx2]=sgn.welch(samples1,sr,nperseg=num_samp,nfft=n_fft,detrend=False,return_onesided=False)\n",
    "# Pxx2=fftshift(Pxx2)\n",
    "plot(f2/1e6+cf/1e6,np.log10(Pxx2))\n",
    "xlabel('Frequency (MHz)')\n",
    "ylabel('Relative power (dB)')\n",
    "\n",
    "figure(1)\n",
    "subplot(2,2,3)\n",
    "[f3,Pxx3]=sgn.welch(samples2,sr,nperseg=num_samp,nfft=n_fft,detrend=False,return_onesided=False)\n",
    "# Pxx3=fftshift(Pxx3)\n",
    "plot(f3/1e6+cf/1e6,np.log10(Pxx3))\n",
    "xlabel('Frequency (MHz)')\n",
    "ylabel('Relative power (dB)')\n",
    "\n",
    "figure(1)\n",
    "subplot(2,2,4)\n",
    "[f4,Pxx4]=sgn.welch(samples3,sr,nperseg=num_samp,nfft=n_fft,detrend=False,return_onesided=False)\n",
    "# Pxx4=fftshift(Pxx4)\n",
    "plot(f4/1e6+cf/1e6,np.log10(Pxx4))\n",
    "xlabel('Frequency (MHz)')\n",
    "ylabel('Relative power (dB)')\n",
    "show()"
   ]
  },
  {
   "cell_type": "code",
   "execution_count": 16,
   "metadata": {
    "ExecuteTime": {
     "end_time": "2021-02-21T08:43:10.732018Z",
     "start_time": "2021-02-21T08:43:10.653445Z"
    }
   },
   "outputs": [
    {
     "name": "stdout",
     "output_type": "stream",
     "text": [
      "0\n"
     ]
    }
   ],
   "source": [
    "print(RtlSdr.get_device_index_by_serial(serial_number[0]))"
   ]
  },
  {
   "cell_type": "code",
   "execution_count": 27,
   "metadata": {
    "ExecuteTime": {
     "end_time": "2021-02-21T09:00:45.469953Z",
     "start_time": "2021-02-21T09:00:45.441635Z"
    }
   },
   "outputs": [
    {
     "name": "stdout",
     "output_type": "stream",
     "text": [
      "2\n"
     ]
    }
   ],
   "source": [
    "p=(6!=1)+(1!=2)+(1!=1)\n",
    "print(p)"
   ]
  },
  {
   "cell_type": "code",
   "execution_count": 58,
   "metadata": {
    "ExecuteTime": {
     "end_time": "2021-02-21T11:04:30.317582Z",
     "start_time": "2021-02-21T11:04:30.190952Z"
    }
   },
   "outputs": [
    {
     "name": "stdout",
     "output_type": "stream",
     "text": [
      "[[1 2 3]\n",
      " [3 4 5]]\n",
      "[1 2 3]\n",
      "2\n",
      "[ 0.  0.  0.  0.]\n"
     ]
    },
    {
     "ename": "ValueError",
     "evalue": "setting an array element with a sequence.",
     "output_type": "error",
     "traceback": [
      "\u001b[0;31m---------------------------------------------------------------------------\u001b[0m",
      "\u001b[0;31mValueError\u001b[0m                                Traceback (most recent call last)",
      "\u001b[0;32m<ipython-input-58-723d1d3ca394>\u001b[0m in \u001b[0;36m<module>\u001b[0;34m()\u001b[0m\n\u001b[1;32m      8\u001b[0m \u001b[0mprint\u001b[0m\u001b[0;34m(\u001b[0m\u001b[0mnp\u001b[0m\u001b[0;34m.\u001b[0m\u001b[0msize\u001b[0m\u001b[0;34m(\u001b[0m\u001b[0mc\u001b[0m\u001b[0;34m[\u001b[0m\u001b[0;34m:\u001b[0m\u001b[0;34m,\u001b[0m\u001b[0;36m1\u001b[0m\u001b[0;34m]\u001b[0m\u001b[0;34m)\u001b[0m\u001b[0;34m)\u001b[0m\u001b[0;34m\u001b[0m\u001b[0m\n\u001b[1;32m      9\u001b[0m \u001b[0mprint\u001b[0m\u001b[0;34m(\u001b[0m\u001b[0md\u001b[0m\u001b[0;34m)\u001b[0m\u001b[0;34m\u001b[0m\u001b[0m\n\u001b[0;32m---> 10\u001b[0;31m \u001b[0md\u001b[0m\u001b[0;34m[\u001b[0m\u001b[0;36m0\u001b[0m\u001b[0;34m]\u001b[0m\u001b[0;34m=\u001b[0m\u001b[0mnp\u001b[0m\u001b[0;34m.\u001b[0m\u001b[0marray\u001b[0m\u001b[0;34m(\u001b[0m\u001b[0;34m[\u001b[0m\u001b[0;36m1\u001b[0m\u001b[0;34m,\u001b[0m\u001b[0;36m2\u001b[0m\u001b[0;34m,\u001b[0m\u001b[0;36m3\u001b[0m\u001b[0;34m]\u001b[0m\u001b[0;34m)\u001b[0m\u001b[0;34m\u001b[0m\u001b[0m\n\u001b[0m\u001b[1;32m     11\u001b[0m \u001b[0mprint\u001b[0m\u001b[0;34m(\u001b[0m\u001b[0md\u001b[0m\u001b[0;34m)\u001b[0m\u001b[0;34m\u001b[0m\u001b[0m\n",
      "\u001b[0;31mValueError\u001b[0m: setting an array element with a sequence."
     ]
    }
   ],
   "source": [
    "import numpy as np\n",
    "a=np.array([1,2,3])\n",
    "b=np.array([3,4,5])\n",
    "c=np.array([a,b])\n",
    "d=np.zeros(4)\n",
    "print(c)\n",
    "print(c[0,:])\n",
    "print(np.size(c[:,1]))\n",
    "print(d)\n",
    "d[0]=np.array([1,2,3])\n",
    "print(d)"
   ]
  },
  {
   "cell_type": "code",
   "execution_count": 34,
   "metadata": {
    "ExecuteTime": {
     "end_time": "2021-02-21T09:54:12.075037Z",
     "start_time": "2021-02-21T09:54:12.040746Z"
    }
   },
   "outputs": [
    {
     "data": {
      "text/plain": [
       "True"
      ]
     },
     "execution_count": 34,
     "metadata": {},
     "output_type": "execute_result"
    }
   ],
   "source": [
    "isinstance(33,int)"
   ]
  },
  {
   "cell_type": "code",
   "execution_count": 64,
   "metadata": {
    "ExecuteTime": {
     "end_time": "2021-02-21T11:08:01.175177Z",
     "start_time": "2021-02-21T11:08:01.145007Z"
    }
   },
   "outputs": [
    {
     "name": "stdout",
     "output_type": "stream",
     "text": [
      "range(0, 4)\n"
     ]
    }
   ],
   "source": [
    "p=range(0,4)\n",
    "print(p)"
   ]
  },
  {
   "cell_type": "code",
   "execution_count": null,
   "metadata": {},
   "outputs": [],
   "source": []
  }
 ],
 "metadata": {
  "kernelspec": {
   "display_name": "Python 3",
   "language": "python",
   "name": "python3"
  },
  "language_info": {
   "codemirror_mode": {
    "name": "ipython",
    "version": 3
   },
   "file_extension": ".py",
   "mimetype": "text/x-python",
   "name": "python",
   "nbconvert_exporter": "python",
   "pygments_lexer": "ipython3",
   "version": "3.6.5"
  },
  "varInspector": {
   "cols": {
    "lenName": 16,
    "lenType": 16,
    "lenVar": 40
   },
   "kernels_config": {
    "python": {
     "delete_cmd_postfix": "",
     "delete_cmd_prefix": "del ",
     "library": "var_list.py",
     "varRefreshCmd": "print(var_dic_list())"
    },
    "r": {
     "delete_cmd_postfix": ") ",
     "delete_cmd_prefix": "rm(",
     "library": "var_list.r",
     "varRefreshCmd": "cat(var_dic_list()) "
    }
   },
   "oldHeight": 307.417,
   "position": {
    "height": "351.388518px",
    "left": "717.076px",
    "right": "20px",
    "top": "140.946px",
    "width": "500.844518px"
   },
   "types_to_exclude": [
    "module",
    "function",
    "builtin_function_or_method",
    "instance",
    "_Feature"
   ],
   "varInspector_section_display": "block",
   "window_display": false
  }
 },
 "nbformat": 4,
 "nbformat_minor": 4
}
