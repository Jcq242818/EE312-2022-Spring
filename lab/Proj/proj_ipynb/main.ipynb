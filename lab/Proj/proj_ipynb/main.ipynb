{
 "cells": [
  {
   "cell_type": "code",
   "execution_count": null,
   "id": "ebbc6e35",
   "metadata": {},
   "outputs": [],
   "source": [
    "# %load main.py\n",
    "from rtlsdr import *\n",
    "from pylab import *\n",
    "from multiprocessing.dummy import Pool\n",
    "import time\n",
    "\n",
    "\n",
    "def read_data(sdr):\n",
    "    samples = sdr.read_samples(256 * 1024)\n",
    "    clf()\n",
    "    psd(samples.real, NFFT=1024, Fs=sdr.sample_rate / 1e6, Fc=sdr.center_freq / 1e6)\n",
    "    xlabel('Frequency (MHz)')\n",
    "    ylabel('Relative power (dB)')\n",
    "    show()\n",
    "    time.sleep(1)  # sleep for 1s\n",
    "\n",
    "\n",
    "pool = Pool(15)  # 创建拥有15个进程数量的进程池\n",
    "serial_number = RtlSdr.get_device_serial_addresses()\n",
    "print(serial_number)\n",
    "sdr_ar = []\n",
    "for i in range(0, size(serial_number)):\n",
    "    sdr_i = RtlSdr(RtlSdr.get_device_index_by_serial(serial_number[i]))\n",
    "    sdr_i.sample_rate = 2.4e6\n",
    "    sdr_i.center_freq = 93.5e6\n",
    "    sdr_i.gain = 50  # 这些参数需要配置，如要配置配置多大的值\n",
    "    sdr_ar.append(sdr_i)  # 这里应该先查找4个\n",
    "# 开始并行读取接收\n",
    "pool.map(read_data, sdr_ar)\n",
    "pool.close()\n",
    "pool.join()\n"
   ]
  },
  {
   "cell_type": "code",
   "execution_count": null,
   "id": "fd04b51f",
   "metadata": {},
   "outputs": [],
   "source": []
  }
 ],
 "metadata": {
  "kernelspec": {
   "display_name": "Python 3",
   "language": "python",
   "name": "python3"
  },
  "language_info": {
   "codemirror_mode": {
    "name": "ipython",
    "version": 3
   },
   "file_extension": ".py",
   "mimetype": "text/x-python",
   "name": "python",
   "nbconvert_exporter": "python",
   "pygments_lexer": "ipython3",
   "version": "3.8.8"
  }
 },
 "nbformat": 4,
 "nbformat_minor": 5
}
